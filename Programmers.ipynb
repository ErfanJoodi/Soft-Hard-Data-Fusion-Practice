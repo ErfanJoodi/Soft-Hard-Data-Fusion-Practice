{
 "cells": [
  {
   "cell_type": "markdown",
   "id": "dcd6193f",
   "metadata": {},
   "source": [
    "# Hi :)"
   ]
  },
  {
   "cell_type": "markdown",
   "id": "cb1cbf0b",
   "metadata": {},
   "source": [
    "----"
   ]
  },
  {
   "cell_type": "code",
   "execution_count": 20,
   "id": "5092602a",
   "metadata": {},
   "outputs": [],
   "source": [
    "# Defining programmers\n",
    "programmers= ['Programmer 1', 'Programmer 2', 'Programmer 3', 'Programmer 4']"
   ]
  },
  {
   "cell_type": "code",
   "execution_count": 35,
   "id": "44693dc1",
   "metadata": {},
   "outputs": [],
   "source": [
    "# Defining 4 random rankings\n",
    "rankings= [\n",
    "    ['Programmer 1', 'Programmer 2', 'Programmer 3', 'Programmer 4'], # Rank1\n",
    "    ['Programmer 3', 'Programmer 2', 'Programmer 4', 'Programmer 1'], # Rank2\n",
    "    ['Programmer 2', 'Programmer 1', 'Programmer 3', 'Programmer 4'], # Rank3\n",
    "    ['Programmer 4', 'Programmer 3', 'Programmer 1', 'Programmer 2'] # Rank4\n",
    "]"
   ]
  },
  {
   "cell_type": "code",
   "execution_count": 36,
   "id": "c3c5cb15",
   "metadata": {},
   "outputs": [],
   "source": [
    "# Calculating the average of the rank of each programmer\n",
    "# Calculating the summation of ranks\n",
    "rank_sums= {p: 0 for p in programmers}\n",
    "for rank in rankings:\n",
    "    for position, p in enumerate(rank, start= 1):\n",
    "        rank_sums[p] += position\n",
    "\n",
    "# Calculating the average of rankings\n",
    "avg_ranks= {p: (rank_sums[p] / len(rankings)) for p in programmers}\n",
    "# Sorting the result\n",
    "final_ranking= sorted(avg_ranks.items(), key= lambda x: x[1])"
   ]
  },
  {
   "cell_type": "code",
   "execution_count": 38,
   "id": "7181c452",
   "metadata": {},
   "outputs": [
    {
     "name": "stdout",
     "output_type": "stream",
     "text": [
      "1. Programmer 2 (average_rank= 2.25)\n",
      "2. Programmer 3 (average_rank= 2.25)\n",
      "3. Programmer 1 (average_rank= 2.50)\n",
      "4. Programmer 4 (average_rank= 3.00)\n"
     ]
    }
   ],
   "source": [
    "# Result\n",
    "for i, (p, avg_rank) in enumerate(final_ranking, start= 1):\n",
    "    print(f'{i}. {p} (average_rank= {avg_rank:.2f})')"
   ]
  }
 ],
 "metadata": {
  "kernelspec": {
   "display_name": "Qvenv",
   "language": "python",
   "name": "qvenv"
  },
  "language_info": {
   "codemirror_mode": {
    "name": "ipython",
    "version": 3
   },
   "file_extension": ".py",
   "mimetype": "text/x-python",
   "name": "python",
   "nbconvert_exporter": "python",
   "pygments_lexer": "ipython3",
   "version": "3.10.0"
  }
 },
 "nbformat": 4,
 "nbformat_minor": 5
}
