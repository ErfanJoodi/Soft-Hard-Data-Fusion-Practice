{
 "cells": [
  {
   "cell_type": "markdown",
   "id": "e8b0c6f7",
   "metadata": {},
   "source": [
    "# Hi :)"
   ]
  },
  {
   "cell_type": "markdown",
   "id": "343d96fb",
   "metadata": {},
   "source": [
    "----"
   ]
  },
  {
   "cell_type": "markdown",
   "id": "73766775",
   "metadata": {},
   "source": [
    "# Import libraries"
   ]
  },
  {
   "cell_type": "code",
   "execution_count": 1,
   "id": "ffbce514",
   "metadata": {},
   "outputs": [],
   "source": [
    "import numpy as np\n",
    "import pandas as pd\n",
    "import matplotlib.pyplot as plt\n",
    "import seaborn as sn"
   ]
  },
  {
   "cell_type": "markdown",
   "id": "a8cb0292",
   "metadata": {},
   "source": [
    "# Creating Datasets"
   ]
  },
  {
   "cell_type": "markdown",
   "id": "e5832361",
   "metadata": {},
   "source": [
    "Hard data"
   ]
  },
  {
   "cell_type": "code",
   "execution_count": 2,
   "id": "7f8ab5c4",
   "metadata": {},
   "outputs": [
    {
     "data": {
      "text/html": [
       "<div>\n",
       "<style scoped>\n",
       "    .dataframe tbody tr th:only-of-type {\n",
       "        vertical-align: middle;\n",
       "    }\n",
       "\n",
       "    .dataframe tbody tr th {\n",
       "        vertical-align: top;\n",
       "    }\n",
       "\n",
       "    .dataframe thead th {\n",
       "        text-align: right;\n",
       "    }\n",
       "</style>\n",
       "<table border=\"1\" class=\"dataframe\">\n",
       "  <thead>\n",
       "    <tr style=\"text-align: right;\">\n",
       "      <th></th>\n",
       "      <th>Sample1</th>\n",
       "      <th>Sample2</th>\n",
       "      <th>Label</th>\n",
       "    </tr>\n",
       "  </thead>\n",
       "  <tbody>\n",
       "    <tr>\n",
       "      <th>0</th>\n",
       "      <td>0.3</td>\n",
       "      <td>0.4</td>\n",
       "      <td>safe</td>\n",
       "    </tr>\n",
       "    <tr>\n",
       "      <th>1</th>\n",
       "      <td>0.5</td>\n",
       "      <td>0.3</td>\n",
       "      <td>low-risk</td>\n",
       "    </tr>\n",
       "    <tr>\n",
       "      <th>2</th>\n",
       "      <td>0.1</td>\n",
       "      <td>0.1</td>\n",
       "      <td>high-risk</td>\n",
       "    </tr>\n",
       "    <tr>\n",
       "      <th>3</th>\n",
       "      <td>0.1</td>\n",
       "      <td>0.2</td>\n",
       "      <td>dangerous</td>\n",
       "    </tr>\n",
       "  </tbody>\n",
       "</table>\n",
       "</div>"
      ],
      "text/plain": [
       "   Sample1  Sample2      Label\n",
       "0      0.3      0.4       safe\n",
       "1      0.5      0.3   low-risk\n",
       "2      0.1      0.1  high-risk\n",
       "3      0.1      0.2  dangerous"
      ]
     },
     "execution_count": 2,
     "metadata": {},
     "output_type": "execute_result"
    }
   ],
   "source": [
    "Hard_data= pd.DataFrame({'Sample1': [0.3, 0.5, 0.1, 0.1],\n",
    "              'Sample2': [0.4, 0.3, 0.1, 0.2],\n",
    "              'Label': ['safe', 'low-risk', 'high-risk', 'dangerous']})\n",
    "\n",
    "Hard_data"
   ]
  },
  {
   "cell_type": "markdown",
   "id": "07b21fa8",
   "metadata": {},
   "source": [
    "Soft Data"
   ]
  },
  {
   "cell_type": "code",
   "execution_count": 3,
   "id": "0e778d7d",
   "metadata": {},
   "outputs": [
    {
     "data": {
      "text/html": [
       "<div>\n",
       "<style scoped>\n",
       "    .dataframe tbody tr th:only-of-type {\n",
       "        vertical-align: middle;\n",
       "    }\n",
       "\n",
       "    .dataframe tbody tr th {\n",
       "        vertical-align: top;\n",
       "    }\n",
       "\n",
       "    .dataframe thead th {\n",
       "        text-align: right;\n",
       "    }\n",
       "</style>\n",
       "<table border=\"1\" class=\"dataframe\">\n",
       "  <thead>\n",
       "    <tr style=\"text-align: right;\">\n",
       "      <th></th>\n",
       "      <th>Expert_Number</th>\n",
       "      <th>Sample1</th>\n",
       "      <th>Sample2</th>\n",
       "    </tr>\n",
       "  </thead>\n",
       "  <tbody>\n",
       "    <tr>\n",
       "      <th>0</th>\n",
       "      <td>1</td>\n",
       "      <td>[0.3, 0.4, 0.3]</td>\n",
       "      <td>[0.2, 0.2, 0.6]</td>\n",
       "    </tr>\n",
       "    <tr>\n",
       "      <th>1</th>\n",
       "      <td>2</td>\n",
       "      <td>[0.5, 0.3, 0.2]</td>\n",
       "      <td>[0.3, 0.4, 0.3]</td>\n",
       "    </tr>\n",
       "    <tr>\n",
       "      <th>2</th>\n",
       "      <td>3</td>\n",
       "      <td>[0.6, 0.2, 0.2]</td>\n",
       "      <td>[0.6, 0.1, 0.3]</td>\n",
       "    </tr>\n",
       "    <tr>\n",
       "      <th>3</th>\n",
       "      <td>4</td>\n",
       "      <td>[0.7, 0.2, 0.1]</td>\n",
       "      <td>[0.1, 0.2, 0.7]</td>\n",
       "    </tr>\n",
       "  </tbody>\n",
       "</table>\n",
       "</div>"
      ],
      "text/plain": [
       "   Expert_Number          Sample1          Sample2\n",
       "0              1  [0.3, 0.4, 0.3]  [0.2, 0.2, 0.6]\n",
       "1              2  [0.5, 0.3, 0.2]  [0.3, 0.4, 0.3]\n",
       "2              3  [0.6, 0.2, 0.2]  [0.6, 0.1, 0.3]\n",
       "3              4  [0.7, 0.2, 0.1]  [0.1, 0.2, 0.7]"
      ]
     },
     "execution_count": 3,
     "metadata": {},
     "output_type": "execute_result"
    }
   ],
   "source": [
    "# [Belief, Disbelief, Uncertainty]\n",
    "Soft_data= pd.DataFrame({'Expert_Number': [1, 2, 3, 4],\n",
    "              'Sample1': [[0.3, 0.4, 0.3], [0.5, 0.3, 0.2], [0.6, 0.2, 0.2], [0.7, 0.2, 0.1]],\n",
    "              'Sample2': [[0.2, 0.2, 0.6], [0.3, 0.4, 0.3], [0.6, 0.1, 0.3], [0.1, 0.2, 0.7]]})\n",
    "\n",
    "Soft_data"
   ]
  },
  {
   "cell_type": "code",
   "execution_count": 13,
   "id": "ae1ffb67",
   "metadata": {},
   "outputs": [
    {
     "data": {
      "text/plain": [
       "[0.3, 0.4, 0.3]"
      ]
     },
     "execution_count": 13,
     "metadata": {},
     "output_type": "execute_result"
    }
   ],
   "source": [
    "Soft_data[Soft_data['Expert_Number'] == 1]['Sample1'].values.tolist()[0]"
   ]
  },
  {
   "cell_type": "markdown",
   "id": "ae14e41f",
   "metadata": {},
   "source": [
    "# Initialization"
   ]
  },
  {
   "cell_type": "code",
   "execution_count": 34,
   "id": "1b1ff480",
   "metadata": {},
   "outputs": [],
   "source": [
    "# Defining a function to calculate combine belief, disbelief and uncertainty of two experts\n",
    "def BDU(e1, e2, sample_number):\n",
    "    # Extracting w by the expert number and sample number\n",
    "    w1= Soft_data[Soft_data['Expert_Number'] == e1][f'Sample{sample_number}'].values.tolist()[0]\n",
    "    w2= Soft_data[Soft_data['Expert_Number'] == e2][f'Sample{sample_number}'].values.tolist()[0]\n",
    "\n",
    "    # Extracting belief and disbelief and uncertainty\n",
    "    b1, d1, u1= w1\n",
    "    b2, d2, u2= w2\n",
    "\n",
    "    # Calculating combine belief and disbelief and uncertainty\n",
    "    b= np.round(((b1 * u2) + (b2 * u1)) / (u1 + u2 - (u1 * u2)), 4)\n",
    "    d= np.round(((d1 * u2) + (d2 * u1)) / (u1 + u2 - (u1 * u2)), 4)\n",
    "    u= np.round((u1 * u2) / (u1 + u2 - (u1 * u2)), 4)\n",
    "\n",
    "    return [b, d, u]\n",
    "\n",
    "# Defining a function to calculate the expectation for two experts\n",
    "def Expectation(e1, e2, sample_number, a):\n",
    "    b, _, u= BDU(e1, e2, sample_number)\n",
    "    e= np.round(b + (u * a), 4)\n",
    "    return e"
   ]
  },
  {
   "cell_type": "markdown",
   "id": "58812668",
   "metadata": {},
   "source": [
    "Calculating Expectations for each sample"
   ]
  },
  {
   "cell_type": "code",
   "execution_count": 46,
   "id": "48f12806",
   "metadata": {},
   "outputs": [
    {
     "name": "stdout",
     "output_type": "stream",
     "text": [
      "E1= 0.654\n",
      "E2= 0.5466\n"
     ]
    }
   ],
   "source": [
    "# Sample 1\n",
    "E1= np.mean([Expectation(1, 2, 1, 0.5), Expectation(2, 3, 1, 0.5), Expectation(3, 4, 1, 0.5)]).round(4)\n",
    "\n",
    "# Sample 2\n",
    "E2= np.mean([Expectation(1, 2, 2, 0.3), Expectation(2, 3, 2, 0.3), Expectation(3, 4, 2, 0.3)]).round(4)\n",
    "\n",
    "# Print the results\n",
    "print(f'E1= {E1}\\nE2= {E2}')"
   ]
  },
  {
   "cell_type": "markdown",
   "id": "8076665f",
   "metadata": {},
   "source": [
    "Extracting hard data for low-risk class"
   ]
  },
  {
   "cell_type": "code",
   "execution_count": 55,
   "id": "39dd0dd9",
   "metadata": {},
   "outputs": [
    {
     "name": "stdout",
     "output_type": "stream",
     "text": [
      "H1= 0.5\n",
      "H2= 0.3\n"
     ]
    }
   ],
   "source": [
    "H1, H2= Hard_data[Hard_data['Label'] == 'low-risk'][['Sample1', 'Sample2']].values.tolist()[0]\n",
    "\n",
    "# Print the results\n",
    "print(f'H1= {H1}\\nH2= {H2}')"
   ]
  }
 ],
 "metadata": {
  "kernelspec": {
   "display_name": "Qvenv",
   "language": "python",
   "name": "qvenv"
  },
  "language_info": {
   "codemirror_mode": {
    "name": "ipython",
    "version": 3
   },
   "file_extension": ".py",
   "mimetype": "text/x-python",
   "name": "python",
   "nbconvert_exporter": "python",
   "pygments_lexer": "ipython3",
   "version": "3.10.0"
  }
 },
 "nbformat": 4,
 "nbformat_minor": 5
}
